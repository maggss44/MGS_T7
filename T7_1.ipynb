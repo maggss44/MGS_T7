{
 "cells": [
  {
   "cell_type": "code",
   "execution_count": null,
   "metadata": {},
   "outputs": [],
   "source": [
    "from pyspark.sql.types import StructType, StructField, StringType, IntegerType, DateType\n",
    "from pyspark.sql import SparkSession\n",
    "import tarfile\n",
    "import os"
   ]
  },
  {
   "cell_type": "code",
   "execution_count": null,
   "metadata": {},
   "outputs": [],
   "source": [
    "# Crear Spark Session\n",
    "spark = SparkSession.builder.getOrCreate()"
   ]
  },
  {
   "cell_type": "code",
   "execution_count": null,
   "metadata": {},
   "outputs": [],
   "source": [
    "%%time\n",
    "# Extraer el archivo .tgz\n",
    "with tarfile.open(\"./data/raw/yelp_dataset.tar\", \"r\") as tar:\n",
    "    tar.extractall(path=\"./data/ini/\")"
   ]
  },
  {
   "cell_type": "code",
   "execution_count": null,
   "metadata": {},
   "outputs": [],
   "source": [
    "# Peso del json\n",
    "file_size = os.path.getsize(\"./data/ini/yelp_academic_dataset_review.json\")\n",
    "print(\"Tamaño del archivo:\", file_size, \"bytes\")"
   ]
  },
  {
   "cell_type": "code",
   "execution_count": null,
   "metadata": {},
   "outputs": [],
   "source": [
    "%%time\n",
    "# Carga los archivos extraídos en un DataFrame\n",
    "df = spark.read.json(\"./data/ini/yelp_academic_dataset_review.json\")"
   ]
  },
  {
   "cell_type": "code",
   "execution_count": null,
   "metadata": {},
   "outputs": [],
   "source": [
    "%%time\n",
    "# Guardar el df en parquet\n",
    "df.write.parquet('review.parquet')"
   ]
  },
  {
   "cell_type": "code",
   "execution_count": null,
   "metadata": {},
   "outputs": [],
   "source": [
    "# Peso del parquet\n",
    "file_size = os.path.getsize(\"review.parquet\")\n",
    "print(\"Tamaño del archivo:\", file_size, \"bytes\")"
   ]
  },
  {
   "cell_type": "code",
   "execution_count": null,
   "metadata": {},
   "outputs": [],
   "source": [
    "# Inferir el esquema inicial\n",
    "initial_schema = df.schema\n",
    "initial_schema"
   ]
  },
  {
   "cell_type": "code",
   "execution_count": null,
   "metadata": {},
   "outputs": [],
   "source": [
    "# Definir el nuevo esquema\n",
    "optimized_schema = StructType([\n",
    "    StructField(\"review_id\", StringType(), nullable=False),\n",
    "    StructField(\"user_id\", StringType(), nullable=False),\n",
    "    StructField(\"business_id\", StringType(), nullable=False),\n",
    "    StructField(\"stars\", IntegerType(), nullable=False),\n",
    "    StructField(\"date\", DateType(), nullable=False),\n",
    "    StructField(\"text\", StringType(), nullable=False),\n",
    "    StructField(\"useful\", IntegerType(), nullable=False),\n",
    "    StructField(\"funny\", IntegerType(), nullable=False),\n",
    "    StructField(\"cool\", IntegerType(), nullable=False)\n",
    "])"
   ]
  },
  {
   "cell_type": "code",
   "execution_count": null,
   "metadata": {},
   "outputs": [],
   "source": [
    "%%time\n",
    "# Aplicar el esquema optimizado al DataFrame\n",
    "df_optimized = spark.read.schema(optimized_schema).json(\"./data/ini/yelp_academic_dataset_review.json\")"
   ]
  },
  {
   "cell_type": "code",
   "execution_count": null,
   "metadata": {},
   "outputs": [],
   "source": [
    "%%time\n",
    "# Guardar el df_optimized en parquet\n",
    "df_optimized.write.parquet('review_op.parquet')"
   ]
  },
  {
   "cell_type": "code",
   "execution_count": null,
   "metadata": {},
   "outputs": [],
   "source": []
  },
  {
   "cell_type": "code",
   "execution_count": null,
   "metadata": {},
   "outputs": [],
   "source": []
  },
  {
   "cell_type": "code",
   "execution_count": null,
   "metadata": {},
   "outputs": [],
   "source": []
  }
 ],
 "metadata": {
  "language_info": {
   "name": "python"
  },
  "orig_nbformat": 4
 },
 "nbformat": 4,
 "nbformat_minor": 2
}

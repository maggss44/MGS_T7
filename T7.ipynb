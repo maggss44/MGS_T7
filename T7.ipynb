{
 "cells": [
  {
   "cell_type": "code",
   "execution_count": 30,
   "id": "db630f44-d721-4717-bf88-1dd899430eb8",
   "metadata": {},
   "outputs": [],
   "source": [
    "from pyspark.sql.types import StructType, StructField, StringType, FloatType, IntegerType, BooleanType, ArrayType\n",
    "from pyspark.sql import SparkSession\n",
    "import tarfile\n",
    "import os\n",
    "import pyspark.sql.functions as f\n",
    "from pyspark.sql.functions import col"
   ]
  },
  {
   "cell_type": "code",
   "execution_count": 2,
   "id": "bc7f3c24-8009-45bc-9193-bad714227ee4",
   "metadata": {},
   "outputs": [],
   "source": [
    "# Crear Spark Session\n",
    "spark = SparkSession.builder.getOrCreate()"
   ]
  },
  {
   "cell_type": "code",
   "execution_count": 23,
   "id": "c2509ce1-7211-4032-9128-55b8d9846255",
   "metadata": {},
   "outputs": [],
   "source": [
    "# Función para calcular el tamaño de un dataframe\n",
    "def get_dataframe_size(df):\n",
    "    # Calculate the size of each column\n",
    "    col_sizes = [f.length(f.col(col_name).cast(\"string\")).alias(col_name) for col_name in df.columns]\n",
    "    # Calculate the total size\n",
    "    total_size = df.select(*col_sizes).groupBy().sum().collect()[0][0]\n",
    "    return total_size"
   ]
  },
  {
   "cell_type": "code",
   "execution_count": 3,
   "id": "7042a5fd-0021-4145-bb1b-54a472ce8e0a",
   "metadata": {},
   "outputs": [
    {
     "name": "stdout",
     "output_type": "stream",
     "text": [
      "CPU times: user 7.44 s, sys: 54.5 s, total: 1min 1s\n",
      "Wall time: 2min 2s\n"
     ]
    }
   ],
   "source": [
    "%%time\n",
    "\n",
    "# Extraer el archivo .tgz\n",
    "with tarfile.open(\"./data/raw/yelp_dataset.tar\", \"r\") as tar:\n",
    "    tar.extractall(path=\"./data/ini/\")"
   ]
  },
  {
   "cell_type": "code",
   "execution_count": 4,
   "id": "fa333285-2740-465f-a1f8-be4affb48561",
   "metadata": {},
   "outputs": [
    {
     "name": "stdout",
     "output_type": "stream",
     "text": [
      "Tamaño del archivo: 5341868833 bytes\n"
     ]
    }
   ],
   "source": [
    "# Peso de review.json\n",
    "file_size = os.path.getsize(\"./data/ini/yelp_academic_dataset_review.json\")\n",
    "print(\"Tamaño del archivo:\", file_size, \"bytes\")"
   ]
  },
  {
   "cell_type": "code",
   "execution_count": 5,
   "id": "7a1815d3-dac2-435e-811e-d72f189f12df",
   "metadata": {},
   "outputs": [
    {
     "name": "stdout",
     "output_type": "stream",
     "text": [
      "CPU times: user 16.5 ms, sys: 1.8 ms, total: 18.3 ms\n",
      "Wall time: 17.2 s\n"
     ]
    }
   ],
   "source": [
    "%%time\n",
    "\n",
    "# Carga los archivos extraídos (review.json) en un DataFrame\n",
    "df = spark.read.json(\"./data/ini/yelp_academic_dataset_review.json\")\n"
   ]
  },
  {
   "cell_type": "code",
   "execution_count": 24,
   "id": "242648f7-493f-44fa-b42a-a2643dd5f0ed",
   "metadata": {},
   "outputs": [
    {
     "name": "stdout",
     "output_type": "stream",
     "text": [
      "Tamaño en RAM: 153786160 bytes\n"
     ]
    }
   ],
   "source": [
    "# Calcular el tamaño del df en ram\n",
    "dataframe_size = get_dataframe_size(df)\n",
    "print(\"Tamaño en RAM:\", dataframe_size, \"bytes\")"
   ]
  },
  {
   "cell_type": "code",
   "execution_count": 6,
   "id": "e084e715-ff27-4f91-8de2-1c89651cd487",
   "metadata": {},
   "outputs": [
    {
     "name": "stdout",
     "output_type": "stream",
     "text": [
      "CPU times: user 72.4 ms, sys: 0 ns, total: 72.4 ms\n",
      "Wall time: 1min 18s\n"
     ]
    }
   ],
   "source": [
    "%%time\n",
    "\n",
    "# Guardar el df en parquet\n",
    "df.write.parquet('review.parquet', mode=\"overwrite\")"
   ]
  },
  {
   "cell_type": "code",
   "execution_count": 7,
   "id": "0167f868-8d19-4520-b6f5-6db9186618d1",
   "metadata": {},
   "outputs": [
    {
     "name": "stdout",
     "output_type": "stream",
     "text": [
      "Tamaño del archivo: 2688 bytes\n"
     ]
    }
   ],
   "source": [
    "# Peso de review.parquet\n",
    "file_size = os.path.getsize(\"review.parquet\")\n",
    "print(\"Tamaño del archivo:\", file_size, \"bytes\")"
   ]
  },
  {
   "cell_type": "code",
   "execution_count": 8,
   "id": "637b96d2-7387-479a-82e9-6fc7f891c5d0",
   "metadata": {},
   "outputs": [
    {
     "data": {
      "text/plain": [
       "StructType([StructField('business_id', StringType(), True), StructField('cool', LongType(), True), StructField('date', StringType(), True), StructField('funny', LongType(), True), StructField('review_id', StringType(), True), StructField('stars', DoubleType(), True), StructField('text', StringType(), True), StructField('useful', LongType(), True), StructField('user_id', StringType(), True)])"
      ]
     },
     "execution_count": 8,
     "metadata": {},
     "output_type": "execute_result"
    }
   ],
   "source": [
    "# Inferir el esquema inicial\n",
    "initial_schema = df.schema\n",
    "initial_schema"
   ]
  },
  {
   "cell_type": "code",
   "execution_count": 9,
   "id": "18eb1921-8c1d-4d33-8b25-822dec770536",
   "metadata": {},
   "outputs": [],
   "source": [
    "# Definir el nuevo esquema\n",
    "optimized_schema = StructType([\n",
    "    StructField(\"review_id\", StringType(), nullable=True),\n",
    "    StructField(\"user_id\", StringType(), nullable=True),\n",
    "    StructField(\"business_id\", StringType(), nullable=True),\n",
    "    StructField(\"stars\", IntegerType(), nullable=True),\n",
    "    StructField(\"date\", DateType(), nullable=True),\n",
    "    StructField(\"text\", StringType(), nullable=True),\n",
    "    StructField(\"useful\", IntegerType(), nullable=True),\n",
    "    StructField(\"funny\", IntegerType(), nullable=True),\n",
    "    StructField(\"cool\", IntegerType(), nullable=True)\n",
    "])"
   ]
  },
  {
   "cell_type": "code",
   "execution_count": 10,
   "id": "ddd08a70-ec50-467b-8584-5b47402e2309",
   "metadata": {},
   "outputs": [
    {
     "name": "stdout",
     "output_type": "stream",
     "text": [
      "CPU times: user 14.6 ms, sys: 0 ns, total: 14.6 ms\n",
      "Wall time: 66.7 ms\n"
     ]
    }
   ],
   "source": [
    "%%time\n",
    "\n",
    "# Aplicar el esquema optimizado al DataFrame\n",
    "df_optimized = spark.read.schema(optimized_schema).json(\"./data/ini/yelp_academic_dataset_review.json\")"
   ]
  },
  {
   "cell_type": "code",
   "execution_count": 25,
   "id": "1b84967e-9517-4372-9499-23426fb94ceb",
   "metadata": {},
   "outputs": [
    {
     "name": "stdout",
     "output_type": "stream",
     "text": [
      "Tamaño en RAM: 153786160 bytes\n"
     ]
    }
   ],
   "source": [
    "# Calcular el tamaño del df en ram\n",
    "dataframe_size = get_dataframe_size(df_optimized)\n",
    "print(\"Tamaño en RAM:\", dataframe_size, \"bytes\")"
   ]
  },
  {
   "cell_type": "code",
   "execution_count": 11,
   "id": "e144922c-81a0-4843-b4f6-3092a1ea7d4b",
   "metadata": {},
   "outputs": [
    {
     "name": "stdout",
     "output_type": "stream",
     "text": [
      "CPU times: user 91.8 ms, sys: 0 ns, total: 91.8 ms\n",
      "Wall time: 1min 47s\n"
     ]
    }
   ],
   "source": [
    "%%time\n",
    "\n",
    "# Guardar el df_optimized en parquet\n",
    "df_optimized.write.parquet('review_op.parquet', mode=\"overwrite\")"
   ]
  },
  {
   "cell_type": "code",
   "execution_count": 12,
   "id": "caf9897f-8d53-42c3-be3d-184f77c2c6d9",
   "metadata": {},
   "outputs": [
    {
     "name": "stdout",
     "output_type": "stream",
     "text": [
      "Tamaño del archivo: 2688 bytes\n"
     ]
    }
   ],
   "source": [
    "# Peso del parquet review_op.parquet\n",
    "file_size = os.path.getsize(\"review_op.parquet\")\n",
    "print(\"Tamaño del archivo:\", file_size, \"bytes\")"
   ]
  },
  {
   "cell_type": "code",
   "execution_count": 13,
   "id": "b0c40006-a7bf-450e-a5fe-1aaee46bc402",
   "metadata": {},
   "outputs": [
    {
     "name": "stdout",
     "output_type": "stream",
     "text": [
      "CPU times: user 8.58 ms, sys: 0 ns, total: 8.58 ms\n",
      "Wall time: 2.16 s\n"
     ]
    }
   ],
   "source": [
    "%%time\n",
    "\n",
    "# Carga los archivos extraídos business.json en un DataFrame\n",
    "df_bus = spark.read.json(\"./data/ini/yelp_academic_dataset_business.json\")\n",
    "df_bus = df_bus.drop(\"stars\")"
   ]
  },
  {
   "cell_type": "markdown",
   "id": "a25d3fb8-9772-41aa-891a-502019ecc3c8",
   "metadata": {},
   "source": [
    "Una vez realizados los pasos anteriores crearemos el dataframe \"df_optimized_v2\" que contiene la fecha\n",
    "desglozada por año y mes. Además haremos un join de ese dataframe con con df_bus."
   ]
  },
  {
   "cell_type": "code",
   "execution_count": 14,
   "id": "de315172-4d4f-4260-9adb-1343f0299a56",
   "metadata": {},
   "outputs": [
    {
     "name": "stdout",
     "output_type": "stream",
     "text": [
      "CPU times: user 11.5 ms, sys: 0 ns, total: 11.5 ms\n",
      "Wall time: 118 ms\n"
     ]
    }
   ],
   "source": [
    "%%time\n",
    "\n",
    "# Extraer columnas de interés de df_optimized\n",
    "df_optimized_v2 = (\n",
    "    df_optimized\n",
    "     .withColumn(\"year\", f.year(f.col(\"date\")))\n",
    "     .withColumn(\"month\", f.month(f.col(\"date\")))\n",
    "     .select(\"review_id\", \"user_id\", \"business_id\", \"stars\", \"year\", \"month\", \"date\", \"text\", \"useful\", \"funny\", \"cool\")\n",
    ")"
   ]
  },
  {
   "cell_type": "code",
   "execution_count": 35,
   "id": "6304d3a5-0523-4037-99e5-2f3d818b464e",
   "metadata": {},
   "outputs": [
    {
     "data": {
      "text/plain": [
       "StructType([StructField('review_id', StringType(), True), StructField('user_id', StringType(), True), StructField('business_id', StringType(), True), StructField('stars', IntegerType(), True), StructField('year', IntegerType(), True), StructField('month', IntegerType(), True), StructField('date', DateType(), True), StructField('text', StringType(), True), StructField('useful', IntegerType(), True), StructField('funny', IntegerType(), True), StructField('cool', IntegerType(), True)])"
      ]
     },
     "execution_count": 35,
     "metadata": {},
     "output_type": "execute_result"
    }
   ],
   "source": [
    "schema_df_optimized_v2 = df_optimized_v2.schema\n",
    "schema_df_optimized_v2"
   ]
  },
  {
   "cell_type": "code",
   "execution_count": 15,
   "id": "4ac8390a-226a-423e-b29f-e3f7c35279e0",
   "metadata": {},
   "outputs": [
    {
     "name": "stdout",
     "output_type": "stream",
     "text": [
      "CPU times: user 3.18 ms, sys: 0 ns, total: 3.18 ms\n",
      "Wall time: 49 ms\n"
     ]
    }
   ],
   "source": [
    "%%time\n",
    "\n",
    "# Realizar inner join en la columna 'business_id'\n",
    "joined_df = df_bus.join(df_optimized_v2, \"business_id\", \"inner\")"
   ]
  },
  {
   "cell_type": "code",
   "execution_count": 20,
   "id": "70eacca4-8c16-41f6-bce3-a2b6fff8fcb3",
   "metadata": {},
   "outputs": [
    {
     "name": "stdout",
     "output_type": "stream",
     "text": [
      "CPU times: user 1.02 s, sys: 0 ns, total: 1.02 s\n",
      "Wall time: 10min 37s\n"
     ]
    }
   ],
   "source": [
    "%%time\n",
    "\n",
    "# Parquet particionado por fecha\n",
    "(joined_df\n",
    "     .write.parquet(\n",
    "         \"op_df_v1\", \n",
    "         mode=\"overwrite\", \n",
    "         partitionBy=[\"year\", \"month\"],\n",
    "         compression=\"gzip\"\n",
    "     )\n",
    ")"
   ]
  },
  {
   "cell_type": "code",
   "execution_count": 17,
   "id": "de7db559-d78a-42f2-87e2-3060d5056f5c",
   "metadata": {
    "scrolled": true
   },
   "outputs": [
    {
     "name": "stdout",
     "output_type": "stream",
     "text": [
      "CPU times: user 273 ms, sys: 9.61 ms, total: 283 ms\n",
      "Wall time: 4min 42s\n"
     ]
    }
   ],
   "source": [
    "%%time\n",
    "\n",
    "# Parquet particionado por ciudad\n",
    "(joined_df\n",
    "     .write.parquet(\n",
    "         \"joined_df_v1\", \n",
    "         mode=\"overwrite\", \n",
    "         partitionBy=[\"state\"],\n",
    "         compression=\"gzip\"\n",
    "     )\n",
    ")"
   ]
  },
  {
   "cell_type": "code",
   "execution_count": 19,
   "id": "eb6ec543-7de6-40e0-971a-7e84c423da6e",
   "metadata": {},
   "outputs": [
    {
     "name": "stdout",
     "output_type": "stream",
     "text": [
      "CPU times: user 3.82 s, sys: 0 ns, total: 3.82 s\n",
      "Wall time: 1h 7min 44s\n"
     ]
    }
   ],
   "source": [
    "%%time\n",
    "\n",
    "# Parquet particionado por ciudad y fecha\n",
    "(joined_df\n",
    "     .write.parquet(\n",
    "         \"joined_df_v2\", \n",
    "         mode=\"overwrite\", \n",
    "         partitionBy=[\"state\", \"year\", \"month\"],\n",
    "         compression=\"gzip\"\n",
    "     )\n",
    ")"
   ]
  },
  {
   "cell_type": "code",
   "execution_count": 27,
   "id": "de32aee8-3a9c-4b23-86ba-1cb86be7d7be",
   "metadata": {},
   "outputs": [
    {
     "name": "stdout",
     "output_type": "stream",
     "text": [
      "CPU times: user 20.2 ms, sys: 0 ns, total: 20.2 ms\n",
      "Wall time: 6.48 s\n"
     ]
    }
   ],
   "source": [
    "%%time\n",
    "\n",
    "# Cargar el archivo Parquet en un DataFrame\n",
    "op_df_v1 = spark.read.parquet(\"./op_df_v1\")\n",
    "\n",
    "# Aplicar el filtro por estado (state) y año (year)\n",
    "filtered_df = op_df_v1.filter((op_df_v1.state == \"CA\") & (op_df_v1.year == \"2016\"))"
   ]
  },
  {
   "cell_type": "code",
   "execution_count": 36,
   "id": "a90b0f8e-63d3-4ddf-af59-f5585268ac63",
   "metadata": {},
   "outputs": [],
   "source": [
    "# Definir el nuevo esquema\n",
    "joined_schema = StructType([\n",
    "    StructField(\"review_id\", StringType(), nullable=True),\n",
    "    StructField(\"user_id\", StringType(), nullable=True),\n",
    "    StructField(\"business_id\", StringType(), nullable=True),\n",
    "    StructField(\"stars\", IntegerType(), nullable=True),\n",
    "    StructField(\"date\", DateType(), nullable=True),\n",
    "    StructField(\"year\", IntegerType(), nullable=True),\n",
    "    StructField(\"month\", IntegerType(), nullable=True),\n",
    "    StructField(\"text\", StringType(), nullable=True),\n",
    "    StructField(\"useful\", IntegerType(), nullable=True),\n",
    "    StructField(\"funny\", IntegerType(), nullable=True),\n",
    "    StructField(\"cool\", IntegerType(), nullable=True),\n",
    "    StructField(\"name\", StringType(), True),\n",
    "    StructField(\"address\", StringType(), True),\n",
    "    StructField(\"city\", StringType(), True),\n",
    "    StructField(\"state\", StringType(), True),\n",
    "    StructField(\"postal_code\", StringType(), True),\n",
    "    StructField(\"latitude\", FloatType(), True),\n",
    "    StructField(\"longitude\", FloatType(), True),\n",
    "    StructField(\"review_count\", IntegerType(), True),\n",
    "    StructField(\"is_open\", IntegerType(), True),\n",
    "    StructField(\"attributes\", \n",
    "                StructType([\n",
    "                    StructField(\"RestaurantsTakeOut\", BooleanType(), True),\n",
    "                    StructField(\"BusinessParking\", \n",
    "                                StructType([\n",
    "                                    StructField(\"garage\", BooleanType(), True),\n",
    "                                    StructField(\"street\", BooleanType(), True),\n",
    "                                    StructField(\"validated\", BooleanType(), True),\n",
    "                                    StructField(\"lot\", BooleanType(), True),\n",
    "                                    StructField(\"valet\", BooleanType(), True)\n",
    "                                ]),\n",
    "                                True)\n",
    "                ]),\n",
    "                True),\n",
    "    StructField(\"categories\", ArrayType(StringType()), True),\n",
    "    StructField(\"hours\", \n",
    "                StructType([\n",
    "                    StructField(\"Monday\", StringType(), True),\n",
    "                    StructField(\"Tuesday\", StringType(), True),\n",
    "                    StructField(\"Wednesday\", StringType(), True),\n",
    "                    StructField(\"Thursday\", StringType(), True),\n",
    "                    StructField(\"Friday\", StringType(), True),\n",
    "                    StructField(\"Saturday\", StringType(), True),\n",
    "                    StructField(\"Sunday\", StringType(), True)\n",
    "                ]),\n",
    "                True)\n",
    "])"
   ]
  },
  {
   "cell_type": "code",
   "execution_count": 37,
   "id": "2fd33542-2ee8-48ff-b1fe-e5e2e9a0d401",
   "metadata": {},
   "outputs": [
    {
     "name": "stdout",
     "output_type": "stream",
     "text": [
      "CPU times: user 14.1 ms, sys: 0 ns, total: 14.1 ms\n",
      "Wall time: 113 ms\n"
     ]
    }
   ],
   "source": [
    "%%time\n",
    "\n",
    "# Cargar el archivo Parquet en un DataFrame\n",
    "joined_df_v1 = spark.read.schema(joined_schema).parquet(\"./joined_df_v1\")\n",
    "\n",
    "# Aplicar el filtro por estado (state) y año (year)\n",
    "filtered_df = joined_df_v1.filter((joined_df_v1.state == \"CA\") & (joined_df_v1.year == \"2016\"))\n"
   ]
  },
  {
   "cell_type": "code",
   "execution_count": 33,
   "id": "a8ba285a-6f59-49ba-87f4-3064f80deea7",
   "metadata": {},
   "outputs": [
    {
     "name": "stdout",
     "output_type": "stream",
     "text": [
      "CPU times: user 121 ms, sys: 0 ns, total: 121 ms\n",
      "Wall time: 1min 49s\n"
     ]
    }
   ],
   "source": [
    "%%time\n",
    "\n",
    "# Cargar el archivo Parquet en un DataFrame\n",
    "joined_df_v2 = spark.read.schema(joined_schema).parquet(\"./joined_df_v2\")\n",
    "\n",
    "# Aplicar el filtro por estado (state) y año (year)\n",
    "filtered_df = joined_df_v2.filter((joined_df_v2.state == \"CA\") & (joined_df_v2.year == \"2016\"))"
   ]
  },
  {
   "cell_type": "code",
   "execution_count": null,
   "id": "fecaf160-50a0-4f7c-822c-c9fcebbdec48",
   "metadata": {},
   "outputs": [],
   "source": []
  }
 ],
 "metadata": {
  "kernelspec": {
   "display_name": "Python 3 (ipykernel)",
   "language": "python",
   "name": "python3"
  },
  "language_info": {
   "codemirror_mode": {
    "name": "ipython",
    "version": 3
   },
   "file_extension": ".py",
   "mimetype": "text/x-python",
   "name": "python",
   "nbconvert_exporter": "python",
   "pygments_lexer": "ipython3",
   "version": "3.11.6"
  }
 },
 "nbformat": 4,
 "nbformat_minor": 5
}
